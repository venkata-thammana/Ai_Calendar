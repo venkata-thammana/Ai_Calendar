{
 "cells": [
  {
   "cell_type": "code",
   "execution_count": 1,
   "id": "aa381e3e",
   "metadata": {},
   "outputs": [
    {
     "data": {
      "text/plain": [
       "True"
      ]
     },
     "execution_count": 1,
     "metadata": {},
     "output_type": "execute_result"
    }
   ],
   "source": [
    "from dotenv import load_dotenv\n",
    "load_dotenv(dotenv_path=\"/Users/akshaythammana/Ai_Calendar/.env\",override=True)"
   ]
  },
  {
   "cell_type": "code",
   "execution_count": 2,
   "id": "1edb062f",
   "metadata": {},
   "outputs": [],
   "source": [
    "from langgraph.checkpoint.memory import MemorySaver\n",
    "from langgraph.prebuilt import create_react_agent\n",
    "from langchain_ollama import ChatOllama\n",
    "from langchain.tools import tool\n",
    "from langchain_google_genai import ChatGoogleGenerativeAI\n",
    "import os\n",
    "\n",
    "\n",
    "import sys\n",
    "sys.path.append('/Users/akshaythammana/Ai_Calendar/') "
   ]
  },
  {
   "cell_type": "code",
   "execution_count": 3,
   "id": "75f041a9",
   "metadata": {},
   "outputs": [],
   "source": [
    "from datetime import datetime\n",
    "today = datetime.now().strftime(\"%Y-%m-%d\")"
   ]
  },
  {
   "cell_type": "code",
   "execution_count": 4,
   "id": "f76d996a",
   "metadata": {},
   "outputs": [],
   "source": [
    "from tools import create_event,edit_event_by_id,get_events,get_event_by_name_and_timefarame,get_tasks,get_tasks_by_name,edit_task_by_id,get_creds,create_multiple_events"
   ]
  },
  {
   "cell_type": "code",
   "execution_count": null,
   "id": "09282e97",
   "metadata": {},
   "outputs": [],
   "source": [
    "system_prompt = f\"\"\"\n",
    "System Prompt\n",
    "You are a highly capable calendar assistant agent with access to Google Calendar API. Your primary role is to help users manage their time effectively by creating, editing, and viewing calendar events and tasks. \n",
    "You have access to tools for calendar management and should use them proactively to assist users.Your are created so that scheduling would be more random.\n",
    "\n",
    "Working Hours : 10 30 AM to 7 PM\n",
    "\n",
    "Communication Style:\n",
    "\n",
    "Be concise but thorough in responses\n",
    "Provide clear summaries of what was accomplished\n",
    "Ask clarifying questions when details are ambiguous\n",
    "Use friendly, professional tone\n",
    "\n",
    "Key Behaviors:\n",
    "Always try to create titles and other descripite stuff yourself\n",
    "do not ask for imformation which is not nessesary\n",
    "Use proper categorization with the established nomenclature system\n",
    "Provide context about why certain scheduling decisions are recommended\n",
    "\n",
    "Best Practices:\n",
    "Include relevant details in event descriptions\n",
    "Set appropriate reminders based on event importance.\n",
    "Based on the event details you try to decide most of the things.\n",
    "\n",
    "\n",
    "Event Nomenclature System\n",
    "Use this standardized categorization system in event titles to maintain consistency and enable easy filtering:\n",
    "Academic & Learning\n",
    "\n",
    "[STUDY] - General study sessions, review time\n",
    "[PERSONAL] - Personal fun stuff\n",
    "[INTERVIEW] - company interviews\n",
    "[WORK] - General work tasks, office time\n",
    "[DELETE] - when you want to delete the event\n",
    "\n",
    "Detaid Explanation of tools - \n",
    "\"\"\"\n"
   ]
  },
  {
   "cell_type": "code",
   "execution_count": 6,
   "id": "0b4671c0",
   "metadata": {},
   "outputs": [],
   "source": [
    "llm = ChatGoogleGenerativeAI(model=\"gemini-2.5-flash\",api_key=os.getenv('GOOGLE_API'))"
   ]
  },
  {
   "cell_type": "code",
   "execution_count": 7,
   "id": "e075f9cc",
   "metadata": {},
   "outputs": [
    {
     "data": {
      "text/plain": [
       "AIMessage(content='Hello! How can I help you today?', additional_kwargs={}, response_metadata={'prompt_feedback': {'block_reason': 0, 'safety_ratings': []}, 'finish_reason': 'STOP', 'model_name': 'gemini-2.5-flash', 'safety_ratings': []}, id='run--8b8d9921-1288-4965-9b84-b3bc42c7beb5-0', usage_metadata={'input_tokens': 2, 'output_tokens': 216, 'total_tokens': 218, 'input_token_details': {'cache_read': 0}, 'output_token_details': {'reasoning': 207}})"
      ]
     },
     "execution_count": 7,
     "metadata": {},
     "output_type": "execute_result"
    }
   ],
   "source": [
    "llm.invoke('Hi')"
   ]
  },
  {
   "cell_type": "code",
   "execution_count": 8,
   "id": "ef22e116",
   "metadata": {},
   "outputs": [],
   "source": [
    "memory = MemorySaver()\n",
    "tools = [create_event,edit_event_by_id,get_events,get_event_by_name_and_timefarame,get_tasks,get_tasks_by_name,edit_task_by_id,create_multiple_events]\n",
    "agent_executor = create_react_agent(llm, tools, checkpointer=memory)"
   ]
  },
  {
   "cell_type": "code",
   "execution_count": 12,
   "id": "ff6d1a19",
   "metadata": {},
   "outputs": [
    {
     "name": "stdout",
     "output_type": "stream",
     "text": [
      "================================\u001b[1m Human Message \u001b[0m=================================\n",
      "\n",
      "rename the unneccasary event with [delete] in the front I will delete those\n",
      "    CURRENT DATE:2025-08-21\n",
      "==================================\u001b[1m Ai Message \u001b[0m==================================\n",
      "\n",
      "I understand. I apologize for the confusion and for creating duplicate events.\n",
      "\n",
      "To ensure I mark the correct events for deletion, could you please confirm which specific events you would like to rename with \"[delete]\"? I will list all \"Study Transformers Architecture\" events scheduled for tomorrow, August 22, 2025, and you can tell me which ones to modify.\n",
      "Tool Calls:\n",
      "  get_event_by_name_and_timefarame (38a01b39-f503-4a24-a7ee-2a0025e410c1)\n",
      " Call ID: 38a01b39-f503-4a24-a7ee-2a0025e410c1\n",
      "  Args:\n",
      "    name: Study Transformers Architecture\n",
      "    start_datetime_str: 2025-08-22 00:00:00\n",
      "    end_datetime_str: 2025-08-22 23:59:59\n",
      "=================================\u001b[1m Tool Message \u001b[0m=================================\n",
      "Name: get_event_by_name_and_timefarame\n",
      "\n",
      "Error: AttributeError(\"'str' object has no attribute 'parent_run_id'\")\n",
      " Please fix your mistakes.\n"
     ]
    },
    {
     "name": "stderr",
     "output_type": "stream",
     "text": [
      "/Users/akshaythammana/Ai_Calendar/tools.py:329: LangChainDeprecationWarning: The method `BaseTool.__call__` was deprecated in langchain-core 0.1.47 and will be removed in 1.0. Use :meth:`~invoke` instead.\n",
      "  events = get_events(start_datetime_str,end_datetime_str)\n"
     ]
    },
    {
     "name": "stdout",
     "output_type": "stream",
     "text": [
      "==================================\u001b[1m Ai Message \u001b[0m==================================\n",
      "\n",
      "I understand. My apologies for the confusion. I will rename the original events that were close together so you can easily identify and delete them.\n",
      "\n",
      "I will rename the following events by prepending \"[delete]\" to their summaries:\n",
      "*   The event with ID `2q0pj4volpfsdfhjct68d5a0ik` (originally \"Study Transformers Architecture - Session 1\" at 9:00 AM)\n",
      "*   The event with ID `upagok34mbrv70skcp8dg8s9r0` (originally \"Study Transformers Architecture - Session 2\" at 9:30 AM)\n",
      "*   The event with ID `23d5mena1v6nc6nurosad9fqeg` (originally \"Study Transformers Architecture - Session 3\" at 10:00 AM)\n",
      "\n",
      "The events that are spread out will remain as they are.\n",
      "Tool Calls:\n",
      "  edit_event_by_id (dcc11c89-5577-45ae-ae5b-5cea3cc7f4d7)\n",
      " Call ID: dcc11c89-5577-45ae-ae5b-5cea3cc7f4d7\n",
      "  Args:\n",
      "    event_id: 2q0pj4volpfsdfhjct68d5a0ik\n",
      "    updated_fields: {'summary': '[delete] Study Transformers Architecture - Session 1'}\n",
      "  edit_event_by_id (75e7bb2d-d162-4800-8c6f-1b4b3a6a95fe)\n",
      " Call ID: 75e7bb2d-d162-4800-8c6f-1b4b3a6a95fe\n",
      "  Args:\n",
      "    event_id: upagok34mbrv70skcp8dg8s9r0\n",
      "    updated_fields: {'summary': '[delete] Study Transformers Architecture - Session 2'}\n",
      "  edit_event_by_id (edfd32dc-3d65-466e-85de-435e2c46be21)\n",
      " Call ID: edfd32dc-3d65-466e-85de-435e2c46be21\n",
      "  Args:\n",
      "    event_id: 23d5mena1v6nc6nurosad9fqeg\n",
      "    updated_fields: {'summary': '[delete] Study Transformers Architecture - Session 3'}\n",
      "=================================\u001b[1m Tool Message \u001b[0m=================================\n",
      "Name: edit_event_by_id\n",
      "\n",
      "{\"kind\": \"calendar#event\", \"etag\": \"\\\"3511574030228862\\\"\", \"id\": \"23d5mena1v6nc6nurosad9fqeg\", \"status\": \"confirmed\", \"htmlLink\": \"https://www.google.com/calendar/event?eid=MjNkNW1lbmExdjZuYzZudXJvc2FkOWZxZWcgYWU3NGZhNGZkYTg4MThiMWZhYzAyNjg5NWQ1ZWI1NDQ1NDBiMDc5OTU2N2JkOGUxNmNhNzcxMjUwZjZiYzFiZkBn\", \"created\": \"2025-08-21T14:33:41.000Z\", \"updated\": \"2025-08-21T14:36:55.114Z\", \"summary\": \"[delete] Study Transformers Architecture - Session 3\", \"description\": \"20-minute study session on Transformers Architecture.\", \"creator\": {\"email\": \"akshaythammana918@gmail.com\"}, \"organizer\": {\"email\": \"ae74fa4fda8818b1fac026895d5eb544540b0799567bd8e16ca771250f6bc1bf@group.calendar.google.com\", \"displayName\": \"Ai Calendar\", \"self\": true}, \"start\": {\"dateTime\": \"2025-08-22T10:00:00+05:30\", \"timeZone\": \"Asia/Kolkata\"}, \"end\": {\"dateTime\": \"2025-08-22T10:20:00+05:30\", \"timeZone\": \"Asia/Kolkata\"}, \"iCalUID\": \"23d5mena1v6nc6nurosad9fqeg@google.com\", \"sequence\": 0, \"reminders\": {\"useDefault\": true}, \"eventType\": \"default\"}\n",
      "==================================\u001b[1m Ai Message \u001b[0m==================================\n",
      "\n",
      "I have renamed the three events that were created unnecessarily by adding \"[delete]\" to their summaries. You can now easily identify and delete them.\n"
     ]
    }
   ],
   "source": [
    "config = {\"configurable\": {\"thread_id\": \"abcd123\"}}\n",
    "\n",
    "input_message = {\n",
    "    \"system\":system_prompt,\n",
    "    \"role\": \"user\",\n",
    "    \"content\": f\"\"\"rename the unneccasary event with [delete] in the front I will delete those\n",
    "    CURRENT DATE:{today}\"\"\",\n",
    "}\n",
    "for step in agent_executor.stream(\n",
    "    {\"messages\": [input_message]}, config, stream_mode=\"values\"\n",
    "):\n",
    "    step[\"messages\"][-1].pretty_print()"
   ]
  },
  {
   "cell_type": "code",
   "execution_count": null,
   "id": "2ae8c387",
   "metadata": {},
   "outputs": [],
   "source": []
  }
 ],
 "metadata": {
  "kernelspec": {
   "display_name": "llm-dev",
   "language": "python",
   "name": "python3"
  },
  "language_info": {
   "codemirror_mode": {
    "name": "ipython",
    "version": 3
   },
   "file_extension": ".py",
   "mimetype": "text/x-python",
   "name": "python",
   "nbconvert_exporter": "python",
   "pygments_lexer": "ipython3",
   "version": "3.13.1"
  }
 },
 "nbformat": 4,
 "nbformat_minor": 5
}
